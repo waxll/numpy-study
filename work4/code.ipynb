{
 "cells": [
  {
   "cell_type": "code",
   "execution_count": null,
   "metadata": {},
   "outputs": [],
   "source": [
    "import numpy as np\n",
    "import pandas as pd"
   ]
  },
  {
   "cell_type": "code",
   "execution_count": null,
   "metadata": {},
   "outputs": [],
   "source": [
    "data=pd.read_csv('Seattle2014.csv')\n",
    "print(data)"
   ]
  },
  {
   "cell_type": "code",
   "execution_count": null,
   "metadata": {},
   "outputs": [],
   "source": [
    "rainfall = data['PRCP'].values\n",
    "print(rainfall)"
   ]
  },
  {
   "cell_type": "code",
   "execution_count": null,
   "metadata": {},
   "outputs": [],
   "source": [
    "%matplotlib inline\n",
    "import matplotlib.pyplot as plt\n",
    "import seaborn ;seaborn.set()\n",
    "plt.hist(rainfall/254,40)"
   ]
  },
  {
   "cell_type": "code",
   "execution_count": null,
   "metadata": {},
   "outputs": [],
   "source": [
    "rng = np.random.RandomState(0)\n",
    "x = rng.randint(10, size=(3, 4))\n",
    "print(x)\n",
    "# 逻辑比较\n",
    "res = (x < 6)\n",
    "print(res)\n",
    "\n",
    "# x<6元素的总数\n",
    "print(np.count_nonzero(res))\n",
    "\n",
    "# 沿第0轴，x<6的个数\n",
    "print('axis=0', np.count_nonzero(res, axis=0))\n",
    "\n",
    "# 沿第1轴，x<6的个数\n",
    "print('axis=1', np.count_nonzero(res, axis=1))"
   ]
  },
  {
   "cell_type": "code",
   "execution_count": null,
   "metadata": {},
   "outputs": [],
   "source": [
    "rng = np.random.RandomState(0)\n",
    "x = rng.randint(10, size=(3, 4))\n",
    "\n",
    "# 逻辑比较\n",
    "res = (x < 6)\n",
    "print(res)\n",
    "\n",
    "# x<6元素的总数\n",
    "print(np.sum(res))\n",
    "\n",
    "# 沿第0轴，x<6的个数\n",
    "print('axis=0', np.sum(res, axis=0))\n",
    "\n",
    "# 沿第1轴，x<6的个数\n",
    "print('axis=1', np.sum(res, axis=1))"
   ]
  },
  {
   "cell_type": "code",
   "execution_count": null,
   "metadata": {},
   "outputs": [],
   "source": [
    "import numpy as np\n",
    "x = np.arange(16).reshape(4,4)\n",
    "print(x)\n",
    "\n",
    "# 掩码索引\n",
    "res = x[(True,False,True,False),(False,True,False,True)] \n",
    "res1 = x[(True,False,True,False),:]\n",
    "res2 = x[:,(False,True,False,True)]\n",
    "print(res)\n",
    "print(res1)\n",
    "print(res2)"
   ]
  },
  {
   "cell_type": "code",
   "execution_count": null,
   "metadata": {},
   "outputs": [],
   "source": [
    "import cv2\n",
    "\n",
    "face_cascade = cv2.CascadeClassifier(cv2.data.haarcascades + 'haarcascade_frontalface_default.xml')\n",
    "\n",
    "eye_cascade = cv2.CascadeClassifier(cv2.data.haarcascades + 'haarcascade_eye.xml')\n",
    "\n",
    "smile_cascade = cv2.CascadeClassifier(cv2.data.haarcascades + 'haarcascade_smile.xml')\n",
    "# 调用摄像头摄像头\n",
    "cap = cv2.VideoCapture(1)\n",
    "\n",
    "while True:\n",
    "    # 获取摄像头拍摄到的画面\n",
    "    ret, frame = cap.read()\n",
    "    faces = face_cascade.detectMultiScale(frame, 1.3, 2)\n",
    "    img = frame\n",
    "    for (x, y, w, h) in faces:\n",
    "        # 画出人脸框，蓝色，画笔宽度微\n",
    "        img = cv2.rectangle(img, (x, y), (x + w, y + h), (255, 0, 0), 2)\n",
    "        # 框选出人脸区域，在人脸区域而不是全图中进行人眼检测，节省计算资源\n",
    "        face_area = img[y:y + h, x:x + w]\n",
    "\n",
    "        # 人眼检测\n",
    "        # 用人眼级联分类器引擎在人脸区域进行人眼识别，返回的eyes为眼睛坐标列表\n",
    "        eyes = eye_cascade.detectMultiScale(face_area, 1.3, 10)\n",
    "        for (ex, ey, ew, eh) in eyes:\n",
    "            # 画出人眼框，绿色，画笔宽度为1\n",
    "            cv2.rectangle(face_area, (ex, ey), (ex + ew, ey + eh), (0, 255, 0), 1)\n",
    "\n",
    "        # 微笑检测\n",
    "        # 用微笑级联分类器引擎在人脸区域进行人眼识别，返回的eyes为眼睛坐标列表\n",
    "        smiles = smile_cascade.detectMultiScale(face_area, scaleFactor=1.16, minNeighbors=65, minSize=(25, 25),\n",
    "                                                flags=cv2.CASCADE_SCALE_IMAGE)\n",
    "        for (ex, ey, ew, eh) in smiles:\n",
    "            # 画出微笑框，红色（BGR色彩体系），画笔宽度为1\n",
    "            cv2.rectangle(face_area, (ex, ey), (ex + ew, ey + eh), (0, 0, 255), 1)\n",
    "            cv2.putText(img, 'Smile', (x, y - 7), 3, 1.2, (0, 0, 255), 2, cv2.LINE_AA)\n",
    "\n",
    "    # 实时展示效果画面\n",
    "    cv2.imshow('frame2', img)\n",
    "    # 每5毫秒监听一次键盘动作\n",
    "    if cv2.waitKey(5) & 0xFF == ord('q'):\n",
    "        break\n",
    "\n",
    "# 最后，关闭所有窗口\n",
    "cap.release()\n",
    "cv2.destroyAllWindows()\n"
   ]
  },
  {
   "cell_type": "code",
   "execution_count": 1,
   "metadata": {},
   "outputs": [
    {
     "ename": "KeyboardInterrupt",
     "evalue": "",
     "output_type": "error",
     "traceback": [
      "\u001b[1;31m---------------------------------------------------------------------------\u001b[0m",
      "\u001b[1;31mKeyboardInterrupt\u001b[0m                         Traceback (most recent call last)",
      "\u001b[1;32m<ipython-input-1-5727d2f53ae8>\u001b[0m in \u001b[0;36m<module>\u001b[1;34m\u001b[0m\n\u001b[0;32m     27\u001b[0m     \u001b[0mcv2\u001b[0m\u001b[1;33m.\u001b[0m\u001b[0mimshow\u001b[0m\u001b[1;33m(\u001b[0m\u001b[1;34m'frame2'\u001b[0m\u001b[1;33m,\u001b[0m\u001b[0mimg\u001b[0m\u001b[1;33m)\u001b[0m\u001b[1;33m\u001b[0m\u001b[1;33m\u001b[0m\u001b[0m\n\u001b[0;32m     28\u001b[0m     \u001b[1;31m# 每5毫秒监听一次键盘动作\u001b[0m\u001b[1;33m\u001b[0m\u001b[1;33m\u001b[0m\u001b[1;33m\u001b[0m\u001b[0m\n\u001b[1;32m---> 29\u001b[1;33m     \u001b[1;32mif\u001b[0m \u001b[0mcv2\u001b[0m\u001b[1;33m.\u001b[0m\u001b[0mwaitKey\u001b[0m\u001b[1;33m(\u001b[0m\u001b[1;36m5\u001b[0m\u001b[1;33m)\u001b[0m \u001b[1;33m&\u001b[0m \u001b[1;36m0xFF\u001b[0m \u001b[1;33m==\u001b[0m \u001b[0mord\u001b[0m\u001b[1;33m(\u001b[0m\u001b[1;34m'q'\u001b[0m\u001b[1;33m)\u001b[0m\u001b[1;33m:\u001b[0m\u001b[1;33m\u001b[0m\u001b[1;33m\u001b[0m\u001b[0m\n\u001b[0m\u001b[0;32m     30\u001b[0m         \u001b[1;32mbreak\u001b[0m\u001b[1;33m\u001b[0m\u001b[1;33m\u001b[0m\u001b[0m\n\u001b[0;32m     31\u001b[0m \u001b[1;33m\u001b[0m\u001b[0m\n",
      "\u001b[1;31mKeyboardInterrupt\u001b[0m: "
     ]
    }
   ],
   "source": [
    "# 调用电脑摄像头进行实时人脸+眼睛识别，可直接复制粘贴运行\n",
    "import cv2\n",
    "\n",
    "face_cascade = cv2.CascadeClassifier(cv2.data.haarcascades+'haarcascade_frontalface_default.xml')\n",
    "\n",
    "eye_cascade = cv2.CascadeClassifier(cv2.data.haarcascades+'haarcascade_eye.xml')\n",
    "# 调用摄像头摄像头\n",
    "cap = cv2.VideoCapture(1)\n",
    "\n",
    "while(True):\n",
    "    # 获取摄像头拍摄到的画面\n",
    "    ret, frame = cap.read()\n",
    "    faces = face_cascade.detectMultiScale(frame, 1.3, 5)\n",
    "    img = frame\n",
    "    for (x,y,w,h) in faces:\n",
    "    \t# 画出人脸框，蓝色，画笔宽度微\n",
    "        img = cv2.rectangle(img,(x,y),(x+w,y+h),(255,0,0),2)\n",
    "    \t# 框选出人脸区域，在人脸区域而不是全图中进行人眼检测，节省计算资源\n",
    "        face_area = img[y:y+h, x:x+w]\n",
    "        eyes = eye_cascade.detectMultiScale(face_area)\n",
    "    \t# 用人眼级联分类器引擎在人脸区域进行人眼识别，返回的eyes为眼睛坐标列表\n",
    "        for (ex,ey,ew,eh) in eyes:\n",
    "            #画出人眼框，绿色，画笔宽度为1\n",
    "            cv2.rectangle(face_area,(ex,ey),(ex+ew,ey+eh),(0,255,0),1)\n",
    "        \n",
    "\t# 实时展示效果画面\n",
    "    cv2.imshow('frame2',img)\n",
    "    # 每5毫秒监听一次键盘动作\n",
    "    if cv2.waitKey(5) & 0xFF == ord('q'):\n",
    "        break\n",
    "\n",
    "# 最后，关闭所有窗口\n",
    "cap.release()\n",
    "cv2.destroyAllWindows()\n"
   ]
  }
 ],
 "metadata": {
  "interpreter": {
   "hash": "6f8ee94c255eb1f45edb80e83721093c1db1e2ea85447c0854292673b957abb8"
  },
  "kernelspec": {
   "display_name": "Python 3.8.8 64-bit ('base': conda)",
   "name": "python3"
  },
  "language_info": {
   "codemirror_mode": {
    "name": "ipython",
    "version": 3
   },
   "file_extension": ".py",
   "mimetype": "text/x-python",
   "name": "python",
   "nbconvert_exporter": "python",
   "pygments_lexer": "ipython3",
   "version": "3.8.8"
  },
  "orig_nbformat": 4
 },
 "nbformat": 4,
 "nbformat_minor": 2
}
