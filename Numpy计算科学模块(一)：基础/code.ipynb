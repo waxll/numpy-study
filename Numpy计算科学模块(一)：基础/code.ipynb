{
 "cells": [
  {
   "cell_type": "code",
   "execution_count": 93,
   "metadata": {},
   "outputs": [
    {
     "name": "stdout",
     "output_type": "stream",
     "text": [
      "1.20.1\n"
     ]
    }
   ],
   "source": [
    "import numpy as np\n",
    "print(np.__version__)"
   ]
  },
  {
   "cell_type": "code",
   "execution_count": 94,
   "metadata": {},
   "outputs": [
    {
     "name": "stdout",
     "output_type": "stream",
     "text": [
      "[1 4 2 5 3] <class 'numpy.ndarray'> int32\n"
     ]
    }
   ],
   "source": [
    "np_arry = np.array([1,4,2,5,3])\n",
    "print(np_arry,type(np_arry),np_arry.dtype)"
   ]
  },
  {
   "cell_type": "code",
   "execution_count": 95,
   "metadata": {},
   "outputs": [
    {
     "name": "stdout",
     "output_type": "stream",
     "text": [
      "[1.   4.13 2.   5.   3.  ] <class 'numpy.ndarray'> float64\n"
     ]
    }
   ],
   "source": [
    "np_arry = np.array([1,4.13,2,5,3])\n",
    "print(np_arry,type(np_arry),np_arry.dtype)"
   ]
  },
  {
   "cell_type": "code",
   "execution_count": 96,
   "metadata": {},
   "outputs": [
    {
     "name": "stdout",
     "output_type": "stream",
     "text": [
      "[1. 4. 2. 5. 3.] <class 'numpy.ndarray'> float32\n"
     ]
    }
   ],
   "source": [
    "np_arry = np.array([1,4,2,5,3], dtype ='float32')\n",
    "print(np_arry,type(np_arry),np_arry.dtype)"
   ]
  },
  {
   "cell_type": "code",
   "execution_count": 97,
   "metadata": {},
   "outputs": [
    {
     "name": "stdout",
     "output_type": "stream",
     "text": [
      "[[2 3 4]\n",
      " [4 5 6]\n",
      " [6 7 8]] <class 'numpy.ndarray'> int32\n"
     ]
    }
   ],
   "source": [
    "np_arry = np.array([range(i,i+3)for i in [2,4,6]])\n",
    "print(np_arry,type(np_arry),np_arry.dtype)"
   ]
  },
  {
   "cell_type": "code",
   "execution_count": 98,
   "metadata": {},
   "outputs": [
    {
     "name": "stdout",
     "output_type": "stream",
     "text": [
      "0.5813042122015738\n"
     ]
    }
   ],
   "source": [
    "res = np.random.random()\n",
    "print(res)"
   ]
  },
  {
   "cell_type": "code",
   "execution_count": 99,
   "metadata": {},
   "outputs": [
    {
     "name": "stdout",
     "output_type": "stream",
     "text": [
      "[0.98963407]\n"
     ]
    }
   ],
   "source": [
    "res = np.random.random((1,))\n",
    "print(res)"
   ]
  },
  {
   "cell_type": "code",
   "execution_count": 100,
   "metadata": {},
   "outputs": [
    {
     "name": "stdout",
     "output_type": "stream",
     "text": [
      "[[[0.0249832  0.27293016 0.68158807]\n",
      "  [0.18265689 0.83840788 0.66489368]\n",
      "  [0.37658252 0.68285431 0.6742609 ]\n",
      "  [0.98389359 0.4587545  0.88576627]]\n",
      "\n",
      " [[0.28047296 0.12081633 0.49855919]\n",
      "  [0.21096797 0.77738842 0.23149998]\n",
      "  [0.12698706 0.70951765 0.63218177]\n",
      "  [0.9642325  0.73589852 0.14428171]]]\n"
     ]
    }
   ],
   "source": [
    "res=np.random.random((2,4,3))\n",
    "print(res)"
   ]
  },
  {
   "cell_type": "code",
   "execution_count": 101,
   "metadata": {},
   "outputs": [
    {
     "name": "stdout",
     "output_type": "stream",
     "text": [
      "[[0.52676673 0.78052834 0.74754352]\n",
      " [0.42070145 0.45251536 0.18944344]\n",
      " [0.16420884 0.46155101 0.09189356]]\n"
     ]
    }
   ],
   "source": [
    "res=np.random.random((3,3))\n",
    "print(res)"
   ]
  },
  {
   "cell_type": "code",
   "execution_count": 102,
   "metadata": {},
   "outputs": [
    {
     "name": "stdout",
     "output_type": "stream",
     "text": [
      "[[0.77948923 0.00461302 0.4578246 ]\n",
      " [0.93984597 0.64850662 0.41368602]\n",
      " [0.138237   0.04361324 0.82081032]]\n"
     ]
    }
   ],
   "source": [
    "res=np.random.rand(3,3)\n",
    "print(res)"
   ]
  },
  {
   "cell_type": "code",
   "execution_count": 103,
   "metadata": {},
   "outputs": [
    {
     "name": "stdout",
     "output_type": "stream",
     "text": [
      "[[6 4 0]\n",
      " [2 2 5]\n",
      " [2 5 4]]\n"
     ]
    }
   ],
   "source": [
    "res=np.random.randint(0,10,(3,3))\n",
    "print(res)"
   ]
  },
  {
   "cell_type": "code",
   "execution_count": 104,
   "metadata": {},
   "outputs": [
    {
     "name": "stdout",
     "output_type": "stream",
     "text": [
      "[[-0.93999624 -2.53174977  3.18194677]\n",
      " [ 3.34588606  1.79701881 -5.05147503]\n",
      " [-0.08717597  4.36767611 -6.5961083 ]]\n"
     ]
    }
   ],
   "source": [
    "res=np.random.normal(0,3,(3,3))\n",
    "print(res)"
   ]
  }
 ],
 "metadata": {
  "interpreter": {
   "hash": "6f8ee94c255eb1f45edb80e83721093c1db1e2ea85447c0854292673b957abb8"
  },
  "kernelspec": {
   "display_name": "Python 3.8.8 64-bit ('base': conda)",
   "name": "python3"
  },
  "language_info": {
   "codemirror_mode": {
    "name": "ipython",
    "version": 3
   },
   "file_extension": ".py",
   "mimetype": "text/x-python",
   "name": "python",
   "nbconvert_exporter": "python",
   "pygments_lexer": "ipython3",
   "version": "3.8.8"
  },
  "orig_nbformat": 4
 },
 "nbformat": 4,
 "nbformat_minor": 2
}
