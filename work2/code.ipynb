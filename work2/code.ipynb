{
 "cells": [
  {
   "cell_type": "code",
   "execution_count": 1,
   "source": [
    "import numpy as np"
   ],
   "outputs": [],
   "metadata": {}
  },
  {
   "cell_type": "code",
   "execution_count": 2,
   "source": [
    "x=np.arange(10)\r\n",
    "print(x)\r\n",
    "print(x[:5])\r\n",
    "print()"
   ],
   "outputs": [
    {
     "output_type": "stream",
     "name": "stdout",
     "text": [
      "[0 1 2 3 4 5 6 7 8 9]\n",
      "[0 1 2 3 4]\n",
      "\n"
     ]
    }
   ],
   "metadata": {}
  },
  {
   "cell_type": "code",
   "execution_count": 3,
   "source": [
    "x=np.arange(1,10)\r\n",
    "print(x.shape)\r\n",
    "print(x)\r\n",
    "x1=x.reshape((3,3))\r\n",
    "print(x1.shape)\r\n",
    "print(x1)"
   ],
   "outputs": [
    {
     "output_type": "stream",
     "name": "stdout",
     "text": [
      "(9,)\n",
      "[1 2 3 4 5 6 7 8 9]\n",
      "(3, 3)\n",
      "[[1 2 3]\n",
      " [4 5 6]\n",
      " [7 8 9]]\n"
     ]
    }
   ],
   "metadata": {}
  },
  {
   "cell_type": "code",
   "execution_count": 4,
   "source": [
    "x1[2,2]=0\r\n",
    "print(x1)"
   ],
   "outputs": [
    {
     "output_type": "stream",
     "name": "stdout",
     "text": [
      "[[1 2 3]\n",
      " [4 5 6]\n",
      " [7 8 0]]\n"
     ]
    }
   ],
   "metadata": {}
  },
  {
   "cell_type": "code",
   "execution_count": 5,
   "source": [
    "x = np.array([1, 2, 3])\r\n",
    "print(x.shape, x.ndim, '\\n', x, '\\n')\r\n",
    "\r\n",
    "# 通过变形获得的行向量：x->x1\r\n",
    "x1 = x.reshape((1, 3))\r\n",
    "print(x1.shape, x1.ndim, '\\n', x1, '\\n')\r\n",
    "\r\n",
    "# 通过变形获得的列向量：x1->x2\r\n",
    "x2 = x.reshape((3, 1))\r\n",
    "print(x2.shape, x2.ndim, '\\n', x2, '\\n')"
   ],
   "outputs": [
    {
     "output_type": "stream",
     "name": "stdout",
     "text": [
      "(3,) 1 \n",
      " [1 2 3] \n",
      "\n",
      "(1, 3) 2 \n",
      " [[1 2 3]] \n",
      "\n",
      "(3, 1) 2 \n",
      " [[1]\n",
      " [2]\n",
      " [3]] \n",
      "\n"
     ]
    }
   ],
   "metadata": {}
  },
  {
   "cell_type": "code",
   "execution_count": 6,
   "source": [
    "x = np.random.randint(10, size=(3, 4))\r\n",
    "print(x.shape, x.ndim, '\\n', x, '\\n')\r\n",
    "x1 = np.reshape(x, (12,))\r\n",
    "print(x1.shape, x1.ndim, '\\n', x1, '\\n')"
   ],
   "outputs": [
    {
     "output_type": "stream",
     "name": "stdout",
     "text": [
      "(3, 4) 2 \n",
      " [[6 7 0 7]\n",
      " [7 1 3 6]\n",
      " [9 0 0 7]] \n",
      "\n",
      "(12,) 1 \n",
      " [6 7 0 7 7 1 3 6 9 0 0 7] \n",
      "\n"
     ]
    }
   ],
   "metadata": {}
  },
  {
   "cell_type": "code",
   "execution_count": 7,
   "source": [
    "x = np.random.randint(10, size=(3, 8))\r\n",
    "print(x)\r\n",
    "\r\n",
    "# 沿axis=1方向，在1、5索引位置处分裂\r\n",
    "# 对返回的结果，通过赋值语句，将子数组进行解包操作。\r\n",
    "x_split1, x_split2, x_split3 = np.split(x, [1, 5], axis=1)\r\n",
    "print(x_split1, '\\n\\n', x_split2, '\\n\\n', x_split3)"
   ],
   "outputs": [
    {
     "output_type": "stream",
     "name": "stdout",
     "text": [
      "[[1 5 9 4 8 6 0 3]\n",
      " [8 1 3 8 4 8 2 9]\n",
      " [5 3 1 4 6 0 4 9]]\n",
      "[[1]\n",
      " [8]\n",
      " [5]] \n",
      "\n",
      " [[5 9 4 8]\n",
      " [1 3 8 4]\n",
      " [3 1 4 6]] \n",
      "\n",
      " [[6 0 3]\n",
      " [8 2 9]\n",
      " [0 4 9]]\n"
     ]
    }
   ],
   "metadata": {}
  },
  {
   "cell_type": "code",
   "execution_count": 8,
   "source": [
    "grid = np.arange(16).reshape((4, 4))\r\n",
    "print(grid)\r\n",
    "print('----------')\r\n",
    "\r\n",
    "upper, lower = np.vsplit(grid, [2])\r\n",
    "print(upper)\r\n",
    "print(lower)\r\n",
    "print('----------')\r\n",
    "\r\n",
    "left, right = np.hsplit(grid, [2])\r\n",
    "print(left)\r\n",
    "print(right)"
   ],
   "outputs": [
    {
     "output_type": "stream",
     "name": "stdout",
     "text": [
      "[[ 0  1  2  3]\n",
      " [ 4  5  6  7]\n",
      " [ 8  9 10 11]\n",
      " [12 13 14 15]]\n",
      "----------\n",
      "[[0 1 2 3]\n",
      " [4 5 6 7]]\n",
      "[[ 8  9 10 11]\n",
      " [12 13 14 15]]\n",
      "----------\n",
      "[[ 0  1]\n",
      " [ 4  5]\n",
      " [ 8  9]\n",
      " [12 13]]\n",
      "[[ 2  3]\n",
      " [ 6  7]\n",
      " [10 11]\n",
      " [14 15]]\n"
     ]
    }
   ],
   "metadata": {}
  },
  {
   "cell_type": "code",
   "execution_count": 9,
   "source": [
    "import numpy as np\r\n",
    "np.random.seed(0)\r\n",
    "\r\n",
    "# 定义数组元素求倒数的函数\r\n",
    "def compute_reciprocals(values):\r\n",
    "   output = np.empty(len(values))\r\n",
    "   for i in range(len(values)):\r\n",
    "       output[i] = 1.0 / values[i]\r\n",
    "   return output\r\n",
    "\r\n",
    "\r\n",
    "values = np.random.randint(1, 10, size=5)\r\n",
    "compute_reciprocals(values)"
   ],
   "outputs": [
    {
     "output_type": "execute_result",
     "data": {
      "text/plain": [
       "array([0.16666667, 1.        , 0.25      , 0.25      , 0.125     ])"
      ]
     },
     "metadata": {},
     "execution_count": 9
    }
   ],
   "metadata": {}
  },
  {
   "cell_type": "code",
   "execution_count": 10,
   "source": [
    "# 运算代码时，速度会很慢，请耐性等待。\r\n",
    "# 左边的In[*]，*代表程序后台繁忙运行。\r\n",
    "big_array = np.random.randint(1, 100, size=100000)\r\n",
    "# 使用%timeit魔法函数测试规模是100000的数组元素求逆操作。\r\n",
    "%timeit compute_reciprocals(big_array)"
   ],
   "outputs": [
    {
     "output_type": "stream",
     "name": "stdout",
     "text": [
      "199 ms ± 7.33 ms per loop (mean ± std. dev. of 7 runs, 1 loop each)\n"
     ]
    }
   ],
   "metadata": {}
  },
  {
   "cell_type": "code",
   "execution_count": 11,
   "source": [
    "# 运算代码时，速度会很慢，请耐性等待。\r\n",
    "# 左边的In[*]，*代表程序后台繁忙运行。\r\n",
    "big_array = np.random.randint(1, 100, size=100000)\r\n",
    "# 使用%timeit魔法函数测试规模是100000的数组元素求逆操作。\r\n",
    "%timeit compute_reciprocals(big_array)"
   ],
   "outputs": [
    {
     "output_type": "stream",
     "name": "stdout",
     "text": [
      "205 ms ± 15.2 ms per loop (mean ± std. dev. of 7 runs, 1 loop each)\n"
     ]
    }
   ],
   "metadata": {}
  }
 ],
 "metadata": {
  "orig_nbformat": 4,
  "language_info": {
   "name": "python",
   "version": "3.8.8",
   "mimetype": "text/x-python",
   "codemirror_mode": {
    "name": "ipython",
    "version": 3
   },
   "pygments_lexer": "ipython3",
   "nbconvert_exporter": "python",
   "file_extension": ".py"
  },
  "kernelspec": {
   "name": "python3",
   "display_name": "Python 3.8.8 64-bit ('base': conda)"
  },
  "interpreter": {
   "hash": "6f8ee94c255eb1f45edb80e83721093c1db1e2ea85447c0854292673b957abb8"
  }
 },
 "nbformat": 4,
 "nbformat_minor": 2
}