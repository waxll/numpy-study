{
 "cells": [
  {
   "cell_type": "code",
   "execution_count": 6,
   "metadata": {},
   "outputs": [],
   "source": [
    "import numpy as np\n",
    "import pandas as pd"
   ]
  },
  {
   "cell_type": "code",
   "execution_count": 7,
   "metadata": {},
   "outputs": [
    {
     "name": "stdout",
     "output_type": "stream",
     "text": [
      "   0\n",
      "0  6\n",
      "1  3\n",
      "2  2\n",
      "3  5\n"
     ]
    }
   ],
   "source": [
    "# 默认行和列标签从0开始计数\n",
    "data = [6,3,2,5]\n",
    "df = pd.DataFrame(data)\n",
    "print(df)\n",
    "#    0\n",
    "# 0  6\n",
    "# 1  3\n",
    "# 2  2\n",
    "# 3  5"
   ]
  },
  {
   "cell_type": "code",
   "execution_count": 8,
   "metadata": {},
   "outputs": [
    {
     "name": "stdout",
     "output_type": "stream",
     "text": [
      "     Name  Age\n",
      "0    Alex   10\n",
      "1     Bob   12\n",
      "2  Clarke   13\n"
     ]
    }
   ],
   "source": [
    "data = [['Alex',10],['Bob',12],['Clarke',13]]\n",
    "df = pd.DataFrame(data, columns=['Name','Age'])\n",
    "print(df)\n",
    "#      Name  Age\n",
    "# 0    Alex   10\n",
    "# 1     Bob   12\n",
    "# 2  Clarke   13"
   ]
  },
  {
   "cell_type": "code",
   "execution_count": 5,
   "metadata": {},
   "outputs": [
    {
     "name": "stdout",
     "output_type": "stream",
     "text": [
      "    Name  Age\n",
      "0    Tom   28\n",
      "1   Jack   34\n",
      "2  Steve   29\n",
      "3  Ricky   42\n"
     ]
    }
   ],
   "source": [
    "data = {'Name':['Tom', 'Jack', 'Steve', 'Ricky'],'Age':[28,34,29,42]}\n",
    "df = pd.DataFrame(data)\n",
    "print(df)\n",
    "#     Name  Age\n",
    "# 0    Tom   28\n",
    "# 1   Jack   34\n",
    "# 2  Steve   29\n",
    "# 3  Ricky   42\n",
    "\n"
   ]
  },
  {
   "cell_type": "code",
   "execution_count": 9,
   "metadata": {},
   "outputs": [
    {
     "name": "stdout",
     "output_type": "stream",
     "text": [
      "          A         B         C         D\n",
      "a -0.032531  1.158854  1.385942  1.603990\n",
      "b  0.179757  0.472554  2.778947 -0.134397\n",
      "c -0.497872  0.367113  0.272927 -2.299399\n",
      "d  1.348861  0.451420  0.973752 -0.792014\n"
     ]
    }
   ],
   "source": [
    "df = pd.DataFrame(np.random.randn(4, 4),\n",
    "index = ['a','b','c','d'], columns = ['A', 'B', 'C', 'D'])\n",
    "print(df)\n",
    "#           A         B         C         D\n",
    "# a  0.381720 -0.134319  0.276336  0.927901\n",
    "# b  0.905183 -0.707632  0.150454 -1.229599\n",
    "# c -0.165328  1.834757  1.301909 -0.444526\n",
    "# d -0.434927 -0.951217 -0.823918  0.568995"
   ]
  },
  {
   "cell_type": "code",
   "execution_count": 10,
   "metadata": {},
   "outputs": [
    {
     "name": "stdout",
     "output_type": "stream",
     "text": [
      "a   -0.032531\n",
      "b    0.179757\n",
      "c   -0.497872\n",
      "d    1.348861\n",
      "Name: A, dtype: float64\n"
     ]
    }
   ],
   "source": [
    "print(df.loc[:,'A'])"
   ]
  },
  {
   "cell_type": "code",
   "execution_count": 11,
   "metadata": {},
   "outputs": [
    {
     "name": "stdout",
     "output_type": "stream",
     "text": [
      "A   -0.032531\n",
      "B    1.158854\n",
      "C    1.385942\n",
      "D    1.603990\n",
      "Name: a, dtype: float64\n"
     ]
    }
   ],
   "source": [
    "# 缺省列切片，等价于df.loc['a',:]\n",
    "print(df.loc['a'])"
   ]
  }
 ],
 "metadata": {
  "interpreter": {
   "hash": "6f8ee94c255eb1f45edb80e83721093c1db1e2ea85447c0854292673b957abb8"
  },
  "kernelspec": {
   "display_name": "Python 3.8.8 64-bit ('base': conda)",
   "name": "python3"
  },
  "language_info": {
   "codemirror_mode": {
    "name": "ipython",
    "version": 3
   },
   "file_extension": ".py",
   "mimetype": "text/x-python",
   "name": "python",
   "nbconvert_exporter": "python",
   "pygments_lexer": "ipython3",
   "version": "3.8.8"
  },
  "orig_nbformat": 4
 },
 "nbformat": 4,
 "nbformat_minor": 2
}
